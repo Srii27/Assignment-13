{
 "cells": [
  {
   "cell_type": "markdown",
   "id": "484853d8",
   "metadata": {},
   "source": [
    "# ASSIGNMENT 13"
   ]
  },
  {
   "cell_type": "markdown",
   "id": "668e1b7b",
   "metadata": {},
   "source": [
    "1.What advantages do Excel spreadsheets have over CSV spreadsheets?\n"
   ]
  },
  {
   "cell_type": "markdown",
   "id": "a23eb667",
   "metadata": {},
   "source": [
    ">Ans: Excel can perform VBA coding, functions, formulas and creates summaries easily while CSV cannot perform any of these. Files saved in Excel format cannot be edited by the text editors and also Excel file can be password protected. Excel also provides the user option for external linking of data from other sources.\n"
   ]
  },
  {
   "cell_type": "markdown",
   "id": "d43e19c0",
   "metadata": {},
   "source": [
    "2.What do you pass to csv.reader() and csv.writer() to create reader and writer objects?\n"
   ]
  },
  {
   "cell_type": "markdown",
   "id": "3c952c77",
   "metadata": {},
   "source": [
    ">Ans: To read data from a CSV file with the csv module, you need to create a Reader object. A Reader object lets you iterate over lines in the CSV file. Enter the following into the interactive shell, with example.csv in the current working directory:"
   ]
  },
  {
   "cell_type": "code",
   "execution_count": null,
   "id": "c9dd939e",
   "metadata": {},
   "outputs": [],
   "source": [
    "#READER OBJECT\n",
    "import csv\n",
    "exampleFile = open('example.csv')\n",
    "exampleReader = csv.reader(exampleFile)\n",
    "exampleData = list(exampleReader)\n",
    "exampleData\n",
    "   [['4/5/2015 13:34', 'Apples', '73'], ['4/5/2015 3:41', 'Cherries', '85'],\n",
    "   ['4/6/2015 12:46', 'Pears', '14'], ['4/8/2015 8:59', 'Oranges', '52'],\n",
    "   ['4/10/2015 2:07', 'Apples', '152'], ['4/10/2015 18:10', 'Bananas', '23'],\n",
    "   ['4/10/2015 2:40', 'Strawberries', '98']]"
   ]
  },
  {
   "cell_type": "markdown",
   "id": "2a3eb68a",
   "metadata": {},
   "source": [
    ">A Writer object lets you write data to a CSV file. To create a Writer object, you use the csv.writer() function. Enter the following into the interactive shell:"
   ]
  },
  {
   "cell_type": "code",
   "execution_count": null,
   "id": "f362f309",
   "metadata": {},
   "outputs": [],
   "source": [
    "#WRITER OBJECT\n",
    "import csv\n",
    "outputFile = open('output.csv', 'w', newline='')\n",
    "outputWriter = csv.writer(outputFile)\n",
    "outputWriter.writerow(['spam', 'eggs', 'bacon', 'ham'])\n",
    "outputWriter.writerow(['Hello, world!', 'eggs', 'bacon', 'ham'])\n",
    "outputWriter.writerow([1, 2, 3.141592, 4])\n",
    "outputFile.close()\n",
    "\n",
    "# OUTPUT\n",
    "This code produces an output.csv file that looks like this:\n",
    "\n",
    "\n",
    "spam,eggs,bacon,ham\n",
    "\"Hello, world!\",eggs,bacon,ham\n",
    "1,2,3.141592,4"
   ]
  },
  {
   "cell_type": "markdown",
   "id": "2a7375f9",
   "metadata": {},
   "source": [
    "3. What modes do File objects for reader and writer objects need to be opened in?\n"
   ]
  },
  {
   "cell_type": "markdown",
   "id": "9a4d6844",
   "metadata": {},
   "source": [
    ">Ans: For reading, the File object mode should be 'r' and for writing the file object mode should be 'w'. "
   ]
  },
  {
   "cell_type": "markdown",
   "id": "44fa6a3c",
   "metadata": {},
   "source": [
    "4. What method takes a list argument and writes it to a CSV file?\n"
   ]
  },
  {
   "cell_type": "markdown",
   "id": "b41f06b0",
   "metadata": {},
   "source": [
    ">Ans: writerows()\n",
    "This function takes a list of iterables as parameter and writes each item as a comma separated line of items in the file."
   ]
  },
  {
   "cell_type": "code",
   "execution_count": null,
   "id": "353e6315",
   "metadata": {},
   "outputs": [],
   "source": [
    "import csv\n",
    "persons=[('Lata',22,45),('Anil',21,56),('John',20,60)]\n",
    "csvfile = open('persons.csv','w', newline='')\n",
    "obj = csv.writer(csvfile)\n",
    "obj.writerows(persons)\n",
    "obj.close()\n",
    "\n",
    "#OUTPUT\n",
    "This will create ‘persons.csv’ file in current directory. It will show following data.\n",
    "\n",
    "Lata,22,45\n",
    "Anil,21,56\n",
    "John,20,60\n",
    "\n"
   ]
  },
  {
   "cell_type": "markdown",
   "id": "7dcdcd05",
   "metadata": {},
   "source": [
    "5. What do the keyword arguments delimiter and line terminator do?\n"
   ]
  },
  {
   "cell_type": "markdown",
   "id": "e881a465",
   "metadata": {},
   "source": [
    ">Ans: The delimiter is the character that appears between cells on a row. By default, the delimiter for a CSV file is a comma. The line terminator is the character that comes at the end of a row. By default, the line terminator is a newline. You can change characters to different values by using the delimiter and lineterminator keyword arguments with csv.writer().\n",
    "\n",
    "> Passing delimeter='\\t' and lineterminator='\\n\\n' changes the character between cells to a tab and the character between rows to two newlines. "
   ]
  },
  {
   "cell_type": "markdown",
   "id": "51b861dd",
   "metadata": {},
   "source": [
    "6. What function takes a string of JSON data and returns a Python data structure?\n"
   ]
  },
  {
   "cell_type": "markdown",
   "id": "60451812",
   "metadata": {},
   "source": [
    ">Ans: We use the json.loads() method to parse a JSON string and return a Python object such as a dictionary. The json.loads() method takes the file contents as a string."
   ]
  },
  {
   "cell_type": "markdown",
   "id": "9f5c3db2",
   "metadata": {},
   "source": [
    "7. What function takes a Python data structure and returns a string of JSON data?\n"
   ]
  },
  {
   "cell_type": "markdown",
   "id": "4021069e",
   "metadata": {},
   "source": [
    ">Ans: If you have a Python object, you can convert it into a JSON string by using the json.dumps() method."
   ]
  }
 ],
 "metadata": {
  "kernelspec": {
   "display_name": "Python 3 (ipykernel)",
   "language": "python",
   "name": "python3"
  },
  "language_info": {
   "codemirror_mode": {
    "name": "ipython",
    "version": 3
   },
   "file_extension": ".py",
   "mimetype": "text/x-python",
   "name": "python",
   "nbconvert_exporter": "python",
   "pygments_lexer": "ipython3",
   "version": "3.9.7"
  }
 },
 "nbformat": 4,
 "nbformat_minor": 5
}
